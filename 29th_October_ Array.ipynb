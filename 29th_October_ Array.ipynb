{
 "cells": [
  {
   "cell_type": "markdown",
   "id": "405b0e36-d1a4-44da-b5d6-84af4c30c288",
   "metadata": {},
   "source": [
    "1. Given an array, check if it contains any duplicates or not.\n",
    "arr = [1, 2, 4, 2, 5, 9]\n",
    "Output = True"
   ]
  },
  {
   "cell_type": "code",
   "execution_count": 4,
   "id": "0bb09e79-1a8e-4b17-9d33-36fd21ab2214",
   "metadata": {},
   "outputs": [
    {
     "name": "stdout",
     "output_type": "stream",
     "text": [
      "True\n"
     ]
    }
   ],
   "source": [
    "def Contain_duplicate(arr):\n",
    "    seen = set() ## Create empty set to store the seen elements\n",
    "    \n",
    "    for i in arr:\n",
    "        if i in seen:\n",
    "            return True  ## If element is already in set seen then it is duplicate element and return True\n",
    "        seen.add(i)  ## Otherwise add to in set seen\n",
    "    return False  ##  If no duplicates are found, return False\n",
    "\n",
    "arr = [1, 2, 4, 2, 5, 9]\n",
    "output = Contain_duplicate(arr)  ## call the Contain_duplicate function and store the value in output\n",
    "print(output)"
   ]
  },
  {
   "cell_type": "markdown",
   "id": "d8ddcf56-631b-4866-bef8-52a030a074ab",
   "metadata": {},
   "source": [
    "2. Given an array and an integer k, rotate the array to the right by k steps.  \n",
    "arr = [1, 2, 3, 4, 5, 6, 7] k = 3   \n",
    "Output = [5, 6, 7, 1, 2, 3, 4]"
   ]
  },
  {
   "cell_type": "code",
   "execution_count": 18,
   "id": "d021eb80-c7f9-48df-8ade-14412f457efc",
   "metadata": {},
   "outputs": [
    {
     "name": "stdout",
     "output_type": "stream",
     "text": [
      "[5, 6, 7, 1, 2, 3, 4]\n"
     ]
    }
   ],
   "source": [
    "def rotate_array(arr, k):\n",
    "    n = len(arr)\n",
    "    k = k % n  # In case k is greater than the length of the array\n",
    "\n",
    "    # Reverse the entire array\n",
    "    reverse(arr, 0, n - 1)\n",
    "    \n",
    "    # Reverse the first k elements\n",
    "    reverse(arr, 0, k - 1)\n",
    "    \n",
    "    # Reverse the remaining elements\n",
    "    reverse(arr, k, n - 1)\n",
    "\n",
    "def reverse(arr, start, end):\n",
    "    while start < end:\n",
    "        arr[start], arr[end] = arr[end], arr[start]\n",
    "        start += 1\n",
    "        end -= 1\n",
    "\n",
    "arr = [1, 2, 3, 4, 5, 6, 7]\n",
    "k = 3\n",
    "rotate_array(arr, k)\n",
    "print(arr)  # Output will be [5, 6, 7, 1, 2, 3, 4]"
   ]
  },
  {
   "cell_type": "markdown",
   "id": "3d2d5b62-254c-47cc-8304-4644d32882a1",
   "metadata": {},
   "source": [
    "3. Reverse the given array in-place, means without using any extra data structure.   \n",
    "arr = [2, 4, 5, 7, 9, 12]   \n",
    "Output = [12, 9, 7, 5, 4, 2]   "
   ]
  },
  {
   "cell_type": "code",
   "execution_count": 19,
   "id": "6bd42e99-440e-4178-ad17-91388730a47e",
   "metadata": {},
   "outputs": [
    {
     "name": "stdout",
     "output_type": "stream",
     "text": [
      "[12, 9, 7, 5, 4, 2]\n"
     ]
    }
   ],
   "source": [
    "def reverse_array_in_place(arr):\n",
    "    start = 0\n",
    "    end = len(arr) - 1\n",
    "\n",
    "    while start < end:\n",
    "        # Swap elements at start and end\n",
    "        arr[start], arr[end] = arr[end], arr[start]\n",
    "        start += 1\n",
    "        end -= 1\n",
    "\n",
    "arr = [2, 4, 5, 7, 9, 12]\n",
    "reverse_array_in_place(arr)\n",
    "print(arr)  # Output will be [12, 9, 7, 5, 4, 2]"
   ]
  },
  {
   "cell_type": "markdown",
   "id": "76b14903-bb9f-44be-a603-ac0325148a6f",
   "metadata": {},
   "source": [
    "4. Given an array of integers, find the maximum element in an array  \n",
    "arr = [10, 5, 20, 8, 15]   \n",
    "Output = 20"
   ]
  },
  {
   "cell_type": "code",
   "execution_count": 21,
   "id": "7e7747c4-5e99-480c-9769-bef505cb7d56",
   "metadata": {},
   "outputs": [
    {
     "name": "stdout",
     "output_type": "stream",
     "text": [
      "20\n"
     ]
    }
   ],
   "source": [
    "def find_maximum_element(arr):\n",
    "    if not arr:\n",
    "        return None  # Return None for an empty array\n",
    "\n",
    "    max_element = arr[0]  # Initialize the maximum element as the first element\n",
    "\n",
    "    for element in arr:\n",
    "        if element > max_element:\n",
    "            max_element = element  # Update max_element if a larger element is found\n",
    "\n",
    "    return max_element\n",
    "\n",
    "arr = [10, 5, 20, 8, 15]\n",
    "max_element = find_maximum_element(arr)\n",
    "print(max_element)  # Output will be 20"
   ]
  },
  {
   "cell_type": "markdown",
   "id": "47cbf945-dd07-48f6-918f-e5c1ecb8a129",
   "metadata": {},
   "source": [
    "5. Given a sorted array, remove the duplicate element without using any extra data structure.    \n",
    "arr = [1, 1, 2, 2, 2, 3, 3, 4, 4, 4, 5, 5]   \n",
    "Output = [1, 2, 3, 4, 5]"
   ]
  },
  {
   "cell_type": "code",
   "execution_count": null,
   "id": "a6209f5c-ac38-4644-93ec-2afa0e434e99",
   "metadata": {},
   "outputs": [],
   "source": [
    "def remove_duplicates(arr):\n",
    "    if not arr:\n",
    "        return arr\n",
    "\n",
    "    # Initialize a pointer to keep track of the unique elements\n",
    "    unique_index = 0\n",
    "\n",
    "    for i in range(1, len(arr)):\n",
    "        if arr[i] != arr[unique_index]:\n",
    "            unique_index += 1\n",
    "            arr[unique_index] = arr[i]\n",
    "\n",
    "    # Truncate the array to remove the duplicates\n",
    "    del arr[unique_index + 1:]\n",
    "\n",
    "arr = [1, 1, 2, 2, 2, 3, 3, 4, 4, 4, 5, 5]\n",
    "remove_duplicates(arr)\n",
    "print(arr)  # Output will be [1, 2, 3, 4, 5]"
   ]
  },
  {
   "cell_type": "code",
   "execution_count": null,
   "id": "e4bf88ac-f79e-47af-b6cf-12d5d2b4f70a",
   "metadata": {},
   "outputs": [],
   "source": []
  }
 ],
 "metadata": {
  "kernelspec": {
   "display_name": "Python 3 (ipykernel)",
   "language": "python",
   "name": "python3"
  },
  "language_info": {
   "codemirror_mode": {
    "name": "ipython",
    "version": 3
   },
   "file_extension": ".py",
   "mimetype": "text/x-python",
   "name": "python",
   "nbconvert_exporter": "python",
   "pygments_lexer": "ipython3",
   "version": "3.10.8"
  }
 },
 "nbformat": 4,
 "nbformat_minor": 5
}
